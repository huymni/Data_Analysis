{
 "cells": [
  {
   "cell_type": "code",
   "execution_count": null,
   "metadata": {
    "vscode": {
     "languageId": "plaintext"
    }
   },
   "outputs": [],
   "source": [
    "\n",
    "        # ---------------------------------------------------\n",
    "        \n",
    "        #### 상세보기 수집 (시작) \n",
    "\n",
    "        # --------------mizuno_detail-------------------------------------\n",
    "        \n",
    "        driver.get(mizuno_detail)\n",
    "        time.sleep(1)\n",
    "        \n",
    "\n",
    "        \n",
    "\n",
    "        detailSoup = BeautifulSoup(driver.page_source)\n",
    "        # print(detailSoup)\n",
    "        #      링크를 타고 들어가자 \n",
    "        # 그다음에 정가, 할인금액,최종금액 + 리뷰 수\n",
    "        detailEl = detailSoup.select(\".pt_product-details\")\n",
    "        # print(detailEl)\n",
    "        for detail in detailEl :\n",
    "            standardPriceEl =detail.select(\"#product-content > .product-price > span \")\n",
    "            # print(len(standardPriceEl))\n",
    "            if len(standardPriceEl) ==1 :\n",
    "                LastPrice = standardPriceEl[0].text.strip()\n",
    "                standardPrice = LastPrice\n",
    "                discountPrice = None\n",
    "                # print(LastPrice)      \n",
    "            elif len(standardPriceEl) == 3 :\n",
    "                standardPrice = standardPriceEl[0].text.strip()\n",
    "                LastPrice = standardPriceEl[1].text.strip()\n",
    "                discountPrice = standardPriceEl[2].text.strip()\n",
    "            reviewEl = detail.select(\".naverReview > h2\")\n",
    "            # print(reviewEl[0].text.strip())\n",
    "        # ---------------------------------------------------\n",
    "        \n",
    "        #### 상세보기 수집 (끝) \n",
    "\n",
    "        # --------------mizuno_detail-------------------------------------"
   ]
  }
 ],
 "metadata": {
  "kernelspec": {
   "display_name": "Python 3",
   "language": "python",
   "name": "python3"
  },
  "language_info": {
   "codemirror_mode": {
    "name": "ipython",
    "version": 3
   },
   "file_extension": ".py",
   "mimetype": "text/x-python",
   "name": "python",
   "nbconvert_exporter": "python",
   "pygments_lexer": "ipython3",
   "version": "3.11.1"
  },
  "orig_nbformat": 4
 },
 "nbformat": 4,
 "nbformat_minor": 2
}
